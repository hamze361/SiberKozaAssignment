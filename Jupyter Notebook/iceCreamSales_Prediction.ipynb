{
 "cells": [
  {
   "cell_type": "code",
   "execution_count": 2,
   "id": "3ae79f23",
   "metadata": {
    "scrolled": true
   },
   "outputs": [
    {
     "data": {
      "text/html": [
       "<div>\n",
       "<style scoped>\n",
       "    .dataframe tbody tr th:only-of-type {\n",
       "        vertical-align: middle;\n",
       "    }\n",
       "\n",
       "    .dataframe tbody tr th {\n",
       "        vertical-align: top;\n",
       "    }\n",
       "\n",
       "    .dataframe thead th {\n",
       "        text-align: right;\n",
       "    }\n",
       "</style>\n",
       "<table border=\"1\" class=\"dataframe\">\n",
       "  <thead>\n",
       "    <tr style=\"text-align: right;\">\n",
       "      <th></th>\n",
       "      <th>Temperature (F)</th>\n",
       "      <th>Ice Crean Flavor</th>\n",
       "      <th>Day of the Week</th>\n",
       "      <th>Sales (in cones)</th>\n",
       "    </tr>\n",
       "  </thead>\n",
       "  <tbody>\n",
       "    <tr>\n",
       "      <th>0</th>\n",
       "      <td>7</td>\n",
       "      <td>Chocolate</td>\n",
       "      <td>Monday</td>\n",
       "      <td>11</td>\n",
       "    </tr>\n",
       "    <tr>\n",
       "      <th>1</th>\n",
       "      <td>9</td>\n",
       "      <td>Vanilla</td>\n",
       "      <td>Wednesday</td>\n",
       "      <td>27</td>\n",
       "    </tr>\n",
       "    <tr>\n",
       "      <th>2</th>\n",
       "      <td>5</td>\n",
       "      <td>Strawberry</td>\n",
       "      <td>Friday</td>\n",
       "      <td>14</td>\n",
       "    </tr>\n",
       "    <tr>\n",
       "      <th>3</th>\n",
       "      <td>10</td>\n",
       "      <td>Mint</td>\n",
       "      <td>Tuesday</td>\n",
       "      <td>6</td>\n",
       "    </tr>\n",
       "    <tr>\n",
       "      <th>4</th>\n",
       "      <td>9</td>\n",
       "      <td>Vanilla</td>\n",
       "      <td>Thursday</td>\n",
       "      <td>23</td>\n",
       "    </tr>\n",
       "    <tr>\n",
       "      <th>5</th>\n",
       "      <td>10</td>\n",
       "      <td>Strawberry</td>\n",
       "      <td>Wednesday</td>\n",
       "      <td>18</td>\n",
       "    </tr>\n",
       "    <tr>\n",
       "      <th>6</th>\n",
       "      <td>9</td>\n",
       "      <td>Chocolate</td>\n",
       "      <td>Friday</td>\n",
       "      <td>4</td>\n",
       "    </tr>\n",
       "    <tr>\n",
       "      <th>7</th>\n",
       "      <td>7</td>\n",
       "      <td>Mint</td>\n",
       "      <td>Monday</td>\n",
       "      <td>15</td>\n",
       "    </tr>\n",
       "    <tr>\n",
       "      <th>8</th>\n",
       "      <td>5</td>\n",
       "      <td>Strawberry</td>\n",
       "      <td>Tuesday</td>\n",
       "      <td>28</td>\n",
       "    </tr>\n",
       "    <tr>\n",
       "      <th>9</th>\n",
       "      <td>7</td>\n",
       "      <td>Chocolate</td>\n",
       "      <td>Thursday</td>\n",
       "      <td>25</td>\n",
       "    </tr>\n",
       "    <tr>\n",
       "      <th>10</th>\n",
       "      <td>5</td>\n",
       "      <td>Vanilla</td>\n",
       "      <td>Monday</td>\n",
       "      <td>12</td>\n",
       "    </tr>\n",
       "  </tbody>\n",
       "</table>\n",
       "</div>"
      ],
      "text/plain": [
       "    Temperature (F) Ice Crean Flavor Day of the Week  Sales (in cones)\n",
       "0                 7        Chocolate          Monday                11\n",
       "1                 9          Vanilla       Wednesday                27\n",
       "2                 5       Strawberry          Friday                14\n",
       "3                10             Mint         Tuesday                 6\n",
       "4                 9          Vanilla        Thursday                23\n",
       "5                10       Strawberry       Wednesday                18\n",
       "6                 9        Chocolate          Friday                 4\n",
       "7                 7             Mint          Monday                15\n",
       "8                 5       Strawberry         Tuesday                28\n",
       "9                 7        Chocolate        Thursday                25\n",
       "10                5          Vanilla          Monday                12"
      ]
     },
     "execution_count": 2,
     "metadata": {},
     "output_type": "execute_result"
    }
   ],
   "source": [
    "import pandas as pd\n",
    "iceCream_data = pd.read_csv('icecreams_sales.csv')\n",
    "iceCream_data"
   ]
  },
  {
   "cell_type": "code",
   "execution_count": 3,
   "id": "958bbfbe",
   "metadata": {},
   "outputs": [
    {
     "data": {
      "text/plain": [
       "(11, 4)"
      ]
     },
     "execution_count": 3,
     "metadata": {},
     "output_type": "execute_result"
    }
   ],
   "source": [
    "iceCream_data.shape"
   ]
  },
  {
   "cell_type": "code",
   "execution_count": 4,
   "id": "0db939a1",
   "metadata": {},
   "outputs": [
    {
     "data": {
      "text/html": [
       "<div>\n",
       "<style scoped>\n",
       "    .dataframe tbody tr th:only-of-type {\n",
       "        vertical-align: middle;\n",
       "    }\n",
       "\n",
       "    .dataframe tbody tr th {\n",
       "        vertical-align: top;\n",
       "    }\n",
       "\n",
       "    .dataframe thead th {\n",
       "        text-align: right;\n",
       "    }\n",
       "</style>\n",
       "<table border=\"1\" class=\"dataframe\">\n",
       "  <thead>\n",
       "    <tr style=\"text-align: right;\">\n",
       "      <th></th>\n",
       "      <th>Temperature (F)</th>\n",
       "      <th>Sales (in cones)</th>\n",
       "    </tr>\n",
       "  </thead>\n",
       "  <tbody>\n",
       "    <tr>\n",
       "      <th>count</th>\n",
       "      <td>11.000000</td>\n",
       "      <td>11.000000</td>\n",
       "    </tr>\n",
       "    <tr>\n",
       "      <th>mean</th>\n",
       "      <td>7.545455</td>\n",
       "      <td>16.636364</td>\n",
       "    </tr>\n",
       "    <tr>\n",
       "      <th>std</th>\n",
       "      <td>1.967925</td>\n",
       "      <td>8.273726</td>\n",
       "    </tr>\n",
       "    <tr>\n",
       "      <th>min</th>\n",
       "      <td>5.000000</td>\n",
       "      <td>4.000000</td>\n",
       "    </tr>\n",
       "    <tr>\n",
       "      <th>25%</th>\n",
       "      <td>6.000000</td>\n",
       "      <td>11.500000</td>\n",
       "    </tr>\n",
       "    <tr>\n",
       "      <th>50%</th>\n",
       "      <td>7.000000</td>\n",
       "      <td>15.000000</td>\n",
       "    </tr>\n",
       "    <tr>\n",
       "      <th>75%</th>\n",
       "      <td>9.000000</td>\n",
       "      <td>24.000000</td>\n",
       "    </tr>\n",
       "    <tr>\n",
       "      <th>max</th>\n",
       "      <td>10.000000</td>\n",
       "      <td>28.000000</td>\n",
       "    </tr>\n",
       "  </tbody>\n",
       "</table>\n",
       "</div>"
      ],
      "text/plain": [
       "       Temperature (F)  Sales (in cones)\n",
       "count        11.000000         11.000000\n",
       "mean          7.545455         16.636364\n",
       "std           1.967925          8.273726\n",
       "min           5.000000          4.000000\n",
       "25%           6.000000         11.500000\n",
       "50%           7.000000         15.000000\n",
       "75%           9.000000         24.000000\n",
       "max          10.000000         28.000000"
      ]
     },
     "execution_count": 4,
     "metadata": {},
     "output_type": "execute_result"
    }
   ],
   "source": [
    "iceCream_data.describe()"
   ]
  },
  {
   "cell_type": "code",
   "execution_count": 5,
   "id": "9c06fce2",
   "metadata": {},
   "outputs": [
    {
     "data": {
      "text/plain": [
       "array([[7, 'Chocolate', 'Monday', 11],\n",
       "       [9, 'Vanilla', 'Wednesday', 27],\n",
       "       [5, 'Strawberry', 'Friday', 14],\n",
       "       [10, 'Mint', 'Tuesday', 6],\n",
       "       [9, 'Vanilla', 'Thursday', 23],\n",
       "       [10, 'Strawberry', 'Wednesday', 18],\n",
       "       [9, 'Chocolate', 'Friday', 4],\n",
       "       [7, 'Mint', 'Monday', 15],\n",
       "       [5, 'Strawberry', 'Tuesday', 28],\n",
       "       [7, 'Chocolate', 'Thursday', 25],\n",
       "       [5, 'Vanilla', 'Monday', 12]], dtype=object)"
      ]
     },
     "execution_count": 5,
     "metadata": {},
     "output_type": "execute_result"
    }
   ],
   "source": [
    "iceCream_data.values"
   ]
  },
  {
   "cell_type": "code",
   "execution_count": 6,
   "id": "900593b7",
   "metadata": {},
   "outputs": [
    {
     "data": {
      "text/plain": [
       "0      7\n",
       "1      9\n",
       "2      5\n",
       "3     10\n",
       "4      9\n",
       "5     10\n",
       "6      9\n",
       "7      7\n",
       "8      5\n",
       "9      7\n",
       "10     5\n",
       "Name: Temperature (F), dtype: int64"
      ]
     },
     "execution_count": 6,
     "metadata": {},
     "output_type": "execute_result"
    }
   ],
   "source": [
    "import pandas as pd\n",
    "iceCream_data = pd.read_csv('icecreams_sales.csv')\n",
    "X = iceCream_data['Temperature (F)']\n",
    "X"
   ]
  },
  {
   "cell_type": "code",
   "execution_count": 7,
   "id": "9f65869f",
   "metadata": {},
   "outputs": [
    {
     "data": {
      "text/plain": [
       "0     11\n",
       "1     27\n",
       "2     14\n",
       "3      6\n",
       "4     23\n",
       "5     18\n",
       "6      4\n",
       "7     15\n",
       "8     28\n",
       "9     25\n",
       "10    12\n",
       "Name: Sales (in cones), dtype: int64"
      ]
     },
     "execution_count": 7,
     "metadata": {},
     "output_type": "execute_result"
    }
   ],
   "source": [
    "import pandas as pd\n",
    "iceCream_data = pd.read_csv('icecreams_sales.csv')\n",
    "X = iceCream_data['Temperature (F)']\n",
    "y = iceCream_data['Sales (in cones)']\n",
    "y"
   ]
  },
  {
   "cell_type": "code",
   "execution_count": 8,
   "id": "dd59cc4a",
   "metadata": {},
   "outputs": [
    {
     "data": {
      "text/html": [
       "<div>\n",
       "<style scoped>\n",
       "    .dataframe tbody tr th:only-of-type {\n",
       "        vertical-align: middle;\n",
       "    }\n",
       "\n",
       "    .dataframe tbody tr th {\n",
       "        vertical-align: top;\n",
       "    }\n",
       "\n",
       "    .dataframe thead th {\n",
       "        text-align: right;\n",
       "    }\n",
       "</style>\n",
       "<table border=\"1\" class=\"dataframe\">\n",
       "  <thead>\n",
       "    <tr style=\"text-align: right;\">\n",
       "      <th></th>\n",
       "      <th>Temperature (F)</th>\n",
       "      <th>Ice Crean Flavor</th>\n",
       "      <th>Day of the Week</th>\n",
       "      <th>Sales (in cones)</th>\n",
       "    </tr>\n",
       "  </thead>\n",
       "  <tbody>\n",
       "    <tr>\n",
       "      <th>0</th>\n",
       "      <td>7</td>\n",
       "      <td>Chocolate</td>\n",
       "      <td>Monday</td>\n",
       "      <td>11</td>\n",
       "    </tr>\n",
       "    <tr>\n",
       "      <th>1</th>\n",
       "      <td>9</td>\n",
       "      <td>Vanilla</td>\n",
       "      <td>Wednesday</td>\n",
       "      <td>27</td>\n",
       "    </tr>\n",
       "    <tr>\n",
       "      <th>2</th>\n",
       "      <td>5</td>\n",
       "      <td>Strawberry</td>\n",
       "      <td>Friday</td>\n",
       "      <td>14</td>\n",
       "    </tr>\n",
       "    <tr>\n",
       "      <th>3</th>\n",
       "      <td>10</td>\n",
       "      <td>Mint</td>\n",
       "      <td>Tuesday</td>\n",
       "      <td>6</td>\n",
       "    </tr>\n",
       "    <tr>\n",
       "      <th>4</th>\n",
       "      <td>9</td>\n",
       "      <td>Vanilla</td>\n",
       "      <td>Thursday</td>\n",
       "      <td>23</td>\n",
       "    </tr>\n",
       "    <tr>\n",
       "      <th>5</th>\n",
       "      <td>10</td>\n",
       "      <td>Strawberry</td>\n",
       "      <td>Wednesday</td>\n",
       "      <td>18</td>\n",
       "    </tr>\n",
       "    <tr>\n",
       "      <th>6</th>\n",
       "      <td>9</td>\n",
       "      <td>Chocolate</td>\n",
       "      <td>Friday</td>\n",
       "      <td>4</td>\n",
       "    </tr>\n",
       "    <tr>\n",
       "      <th>7</th>\n",
       "      <td>7</td>\n",
       "      <td>Mint</td>\n",
       "      <td>Monday</td>\n",
       "      <td>15</td>\n",
       "    </tr>\n",
       "    <tr>\n",
       "      <th>8</th>\n",
       "      <td>5</td>\n",
       "      <td>Strawberry</td>\n",
       "      <td>Tuesday</td>\n",
       "      <td>28</td>\n",
       "    </tr>\n",
       "    <tr>\n",
       "      <th>9</th>\n",
       "      <td>7</td>\n",
       "      <td>Chocolate</td>\n",
       "      <td>Thursday</td>\n",
       "      <td>25</td>\n",
       "    </tr>\n",
       "    <tr>\n",
       "      <th>10</th>\n",
       "      <td>5</td>\n",
       "      <td>Vanilla</td>\n",
       "      <td>Monday</td>\n",
       "      <td>12</td>\n",
       "    </tr>\n",
       "  </tbody>\n",
       "</table>\n",
       "</div>"
      ],
      "text/plain": [
       "    Temperature (F) Ice Crean Flavor Day of the Week  Sales (in cones)\n",
       "0                 7        Chocolate          Monday                11\n",
       "1                 9          Vanilla       Wednesday                27\n",
       "2                 5       Strawberry          Friday                14\n",
       "3                10             Mint         Tuesday                 6\n",
       "4                 9          Vanilla        Thursday                23\n",
       "5                10       Strawberry       Wednesday                18\n",
       "6                 9        Chocolate          Friday                 4\n",
       "7                 7             Mint          Monday                15\n",
       "8                 5       Strawberry         Tuesday                28\n",
       "9                 7        Chocolate        Thursday                25\n",
       "10                5          Vanilla          Monday                12"
      ]
     },
     "execution_count": 8,
     "metadata": {},
     "output_type": "execute_result"
    }
   ],
   "source": [
    "import pandas as pd\n",
    "from sklearn.tree import DecisionTreeClassifier\n",
    "iceCream_data = pd.read_csv('icecreams_sales.csv')\n",
    "X = iceCream_data['Temperature (F)'].values.reshape(-1, 1)\n",
    "y = iceCream_data['Sales (in cones)'].values\n",
    "\n",
    "model = DecisionTreeClassifier()\n",
    "model.fit(X, y)\n",
    "iceCream_data"
   ]
  },
  {
   "cell_type": "code",
   "execution_count": 9,
   "id": "05cc7475",
   "metadata": {},
   "outputs": [
    {
     "data": {
      "text/plain": [
       "array([12, 11], dtype=int64)"
      ]
     },
     "execution_count": 9,
     "metadata": {},
     "output_type": "execute_result"
    }
   ],
   "source": [
    "import pandas as pd\n",
    "from sklearn.tree import DecisionTreeClassifier\n",
    "\n",
    "iceCream_data = pd.read_csv('icecreams_sales.csv')\n",
    "X = iceCream_data['Temperature (F)'].values.reshape(-1, 1)\n",
    "y = iceCream_data['Sales (in cones)'].values\n",
    "\n",
    "model = DecisionTreeClassifier()\n",
    "model.fit(X, y)\n",
    "predictions = model.predict([ [6], [8] ])\n",
    "\n",
    "predictions"
   ]
  },
  {
   "cell_type": "code",
   "execution_count": 10,
   "id": "a67599a1",
   "metadata": {},
   "outputs": [
    {
     "data": {
      "text/plain": [
       "0.0"
      ]
     },
     "execution_count": 10,
     "metadata": {},
     "output_type": "execute_result"
    }
   ],
   "source": [
    "import pandas as pd\n",
    "from sklearn.tree import DecisionTreeClassifier\n",
    "from sklearn.model_selection import train_test_split\n",
    "from sklearn.metrics import accuracy_score\n",
    "\n",
    "iceCream_data = pd.read_csv('icecreams_sales.csv')\n",
    "X = iceCream_data['Temperature (F)'].values.reshape(-1, 1)\n",
    "y = iceCream_data['Sales (in cones)'].values\n",
    "X_train, X_test, y_train, y_test = train_test_split(X, y, test_size=0.2)\n",
    "\n",
    "model = DecisionTreeClassifier()\n",
    "model.fit(X_train, y_train)\n",
    "predictions = model.predict(X_test)\n",
    "\n",
    "score = accuracy_score(y_test, predictions)\n",
    "score"
   ]
  },
  {
   "cell_type": "code",
   "execution_count": 11,
   "id": "77ac6589",
   "metadata": {},
   "outputs": [
    {
     "data": {
      "text/plain": [
       "['icecreams-sales.joblib']"
      ]
     },
     "execution_count": 11,
     "metadata": {},
     "output_type": "execute_result"
    }
   ],
   "source": [
    "import pandas as pd\n",
    "from sklearn.tree import DecisionTreeClassifier\n",
    "import joblib\n",
    "\n",
    "iceCream_data = pd.read_csv('icecreams_sales.csv')\n",
    "X = iceCream_data['Temperature (F)'].values.reshape(-1, 1)\n",
    "y = iceCream_data['Sales (in cones)'].values\n",
    "\n",
    "model = DecisionTreeClassifier()\n",
    "model.fit(X, y)\n",
    "\n",
    "joblib.dump(model, 'icecreams-sales.joblib')"
   ]
  },
  {
   "cell_type": "code",
   "execution_count": 12,
   "id": "cce60c66",
   "metadata": {},
   "outputs": [
    {
     "data": {
      "text/plain": [
       "array([12, 11], dtype=int64)"
      ]
     },
     "execution_count": 12,
     "metadata": {},
     "output_type": "execute_result"
    }
   ],
   "source": [
    "import pandas as pd\n",
    "from sklearn.tree import DecisionTreeClassifier\n",
    "import joblib\n",
    "\n",
    "# iceCream_data = pd.read_csv('icecreams_sales.csv')\n",
    "# X = iceCream_data['Temperature (F)'].values.reshape(-1, 1)\n",
    "# y = iceCream_data['Sales (in cones)'].values\n",
    "\n",
    "# model = DecisionTreeClassifier()\n",
    "# model.fit(X, y)\n",
    "\n",
    "model = joblib.load('icecreams-sales.joblib')\n",
    "predictions = model.predict([ [6], [8] ])\n",
    "predictions"
   ]
  },
  {
   "cell_type": "code",
   "execution_count": null,
   "id": "7080047f",
   "metadata": {},
   "outputs": [],
   "source": [
    "import pandas as pd\n",
    "from sklearn.tree import DecisionTreeClassifier\n",
    "from sklearn import tree\n",
    "\n",
    "iceCream_data = pd.read_csv('icecreams_sales.csv')\n",
    "X = iceCream_data['Temperature (F)'].values.reshape(-1, 1)\n",
    "y = iceCream_data['Sales (in cones)'].values\n",
    "\n",
    "model = DecisionTreeClassifier()\n",
    "model.fit(X, y)\n",
    "\n",
    "class_names = [str(i) for i in sorted(set(y))]\n",
    "tree.export_graphviz(model, out_file='icecreams-sales.dot',\n",
    "                    feature_names=['Temperature (F)'],\n",
    "                    class_names=class_names,\n",
    "                    label='all',\n",
    "                    rounded=True,\n",
    "                    filled=True)"
   ]
  }
 ],
 "metadata": {
  "kernelspec": {
   "display_name": "Python 3 (ipykernel)",
   "language": "python",
   "name": "python3"
  },
  "language_info": {
   "codemirror_mode": {
    "name": "ipython",
    "version": 3
   },
   "file_extension": ".py",
   "mimetype": "text/x-python",
   "name": "python",
   "nbconvert_exporter": "python",
   "pygments_lexer": "ipython3",
   "version": "3.9.13"
  }
 },
 "nbformat": 4,
 "nbformat_minor": 5
}
